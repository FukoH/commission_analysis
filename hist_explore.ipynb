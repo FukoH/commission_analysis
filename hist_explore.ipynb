{
 "cells": [
  {
   "cell_type": "markdown",
   "metadata": {},
   "source": [
    "# 各属性频率分布探索"
   ]
  },
  {
   "cell_type": "markdown",
   "metadata": {},
   "source": [
    "## 读入数据,整理数据"
   ]
  },
  {
   "cell_type": "code",
   "execution_count": 1,
   "metadata": {},
   "outputs": [
    {
     "name": "stderr",
     "output_type": "stream",
     "text": [
      "D:\\develop\\Anaconda\\envs\\py27\\lib\\site-packages\\IPython\\core\\interactiveshell.py:2718: DtypeWarning: Columns (5,20) have mixed types. Specify dtype option on import or set low_memory=False.\n",
      "  interactivity=interactivity, compiler=compiler, result=result)\n"
     ]
    }
   ],
   "source": [
    "import pandas as pd\n",
    "import numpy as np\n",
    "import seaborn as sns\n",
    "\n",
    "from datetime import datetime\n",
    "import matplotlib.pyplot as plt\n",
    "\n",
    "# 把id等字段转成字符串\n",
    "df = pd.read_csv('aggre.csv',encoding='gbk')\n",
    "df.USER_ID = df.USER_ID.astype('str')\n",
    "df.ACC_NBR = df.ACC_NBR.astype('str')\n",
    "df.USER_DEVELOP_DEPART_ID = df.USER_DEVELOP_DEPART_ID.astype('str')\n",
    "#去掉空值\n",
    "df.dropna(subset=['FEE_12','SETT_CHARGE_12'])\n",
    "# 转换日期\n",
    "df['OPEN_DATE'] = pd.to_datetime(df['OPEN_DATE'],format='%Y/%m/%d %H:%M')\n",
    "df['delta_time_now'] = datetime.now() - df['OPEN_DATE']\n",
    "#在网时长(月),以每月平均30天计\n",
    "df['delta_time_now_month'] = [t.days / 30 for t in df['delta_time_now']]\n",
    "# 分转为元\n",
    "df['FEE_12'] = df['FEE_12'] / 100\n",
    "df['SETT_CHARGE_12'] = df['SETT_CHARGE_12'] / 100"
   ]
  },
  {
   "cell_type": "code",
   "execution_count": 56,
   "metadata": {},
   "outputs": [
    {
     "data": {
      "text/html": [
       "<div>\n",
       "<style>\n",
       "    .dataframe thead tr:only-child th {\n",
       "        text-align: right;\n",
       "    }\n",
       "\n",
       "    .dataframe thead th {\n",
       "        text-align: left;\n",
       "    }\n",
       "\n",
       "    .dataframe tbody tr th {\n",
       "        vertical-align: top;\n",
       "    }\n",
       "</style>\n",
       "<table border=\"1\" class=\"dataframe\">\n",
       "  <thead>\n",
       "    <tr style=\"text-align: right;\">\n",
       "      <th></th>\n",
       "      <th>AMAIN_PP_ID</th>\n",
       "      <th>USER_ONLINE_DURA</th>\n",
       "      <th>G4_YICHANG_ESN_FLAG</th>\n",
       "      <th>G4_YICHANG_SERV_FLAG</th>\n",
       "      <th>CALL_DURATION_AVG</th>\n",
       "      <th>CALL_TIMES_AVG</th>\n",
       "      <th>SMS_TIMES_AVG</th>\n",
       "      <th>IX_KBYTES_AVG</th>\n",
       "      <th>ACTIVE_FLAG</th>\n",
       "      <th>LEASE_FLAG</th>\n",
       "      <th>ACTIVE_DAY_NUM_AVG</th>\n",
       "      <th>JWQ_NUM_AVG</th>\n",
       "      <th>FEE_12</th>\n",
       "      <th>SETT_CHARGE</th>\n",
       "      <th>SETT_CHARGE_12</th>\n",
       "      <th>delta_time_now</th>\n",
       "      <th>delta_time_now_month</th>\n",
       "    </tr>\n",
       "  </thead>\n",
       "  <tbody>\n",
       "    <tr>\n",
       "      <th>count</th>\n",
       "      <td>4.489920e+05</td>\n",
       "      <td>448992.000000</td>\n",
       "      <td>448992.000000</td>\n",
       "      <td>448992.000000</td>\n",
       "      <td>448992.000000</td>\n",
       "      <td>448992.000000</td>\n",
       "      <td>448992.000000</td>\n",
       "      <td>448992.000000</td>\n",
       "      <td>448992.000000</td>\n",
       "      <td>448992.000000</td>\n",
       "      <td>448992.000000</td>\n",
       "      <td>448992.000000</td>\n",
       "      <td>448992.000000</td>\n",
       "      <td>448992.000000</td>\n",
       "      <td>448992.000000</td>\n",
       "      <td>448992</td>\n",
       "      <td>448992.000000</td>\n",
       "    </tr>\n",
       "    <tr>\n",
       "      <th>mean</th>\n",
       "      <td>8.313951e+08</td>\n",
       "      <td>5.285473</td>\n",
       "      <td>0.554270</td>\n",
       "      <td>0.197404</td>\n",
       "      <td>93.193378</td>\n",
       "      <td>105.671763</td>\n",
       "      <td>1.936061</td>\n",
       "      <td>426.624490</td>\n",
       "      <td>0.906159</td>\n",
       "      <td>0.992753</td>\n",
       "      <td>13.450765</td>\n",
       "      <td>20.080556</td>\n",
       "      <td>412.619556</td>\n",
       "      <td>3571.528604</td>\n",
       "      <td>457.657892</td>\n",
       "      <td>301 days 13:50:33.006757</td>\n",
       "      <td>9.466469</td>\n",
       "    </tr>\n",
       "    <tr>\n",
       "      <th>std</th>\n",
       "      <td>3.620822e+08</td>\n",
       "      <td>2.637171</td>\n",
       "      <td>0.497047</td>\n",
       "      <td>0.398041</td>\n",
       "      <td>206.413685</td>\n",
       "      <td>320.329271</td>\n",
       "      <td>46.498393</td>\n",
       "      <td>568.538545</td>\n",
       "      <td>0.291608</td>\n",
       "      <td>0.084822</td>\n",
       "      <td>7.658413</td>\n",
       "      <td>182.813505</td>\n",
       "      <td>342.275465</td>\n",
       "      <td>16112.286664</td>\n",
       "      <td>328.126553</td>\n",
       "      <td>79 days 19:55:33.046152</td>\n",
       "      <td>2.690013</td>\n",
       "    </tr>\n",
       "    <tr>\n",
       "      <th>min</th>\n",
       "      <td>2.000100e+04</td>\n",
       "      <td>1.000000</td>\n",
       "      <td>0.000000</td>\n",
       "      <td>0.000000</td>\n",
       "      <td>0.000000</td>\n",
       "      <td>0.000000</td>\n",
       "      <td>0.000000</td>\n",
       "      <td>0.000000</td>\n",
       "      <td>0.000000</td>\n",
       "      <td>0.000000</td>\n",
       "      <td>0.000000</td>\n",
       "      <td>0.000000</td>\n",
       "      <td>-9.190000</td>\n",
       "      <td>-6450.000000</td>\n",
       "      <td>-100.000000</td>\n",
       "      <td>156 days 23:30:50.010000</td>\n",
       "      <td>5.000000</td>\n",
       "    </tr>\n",
       "    <tr>\n",
       "      <th>25%</th>\n",
       "      <td>9.930250e+08</td>\n",
       "      <td>4.000000</td>\n",
       "      <td>0.000000</td>\n",
       "      <td>0.000000</td>\n",
       "      <td>3.000000</td>\n",
       "      <td>4.000000</td>\n",
       "      <td>0.000000</td>\n",
       "      <td>137.000000</td>\n",
       "      <td>1.000000</td>\n",
       "      <td>1.000000</td>\n",
       "      <td>7.000000</td>\n",
       "      <td>0.000000</td>\n",
       "      <td>246.900000</td>\n",
       "      <td>0.000000</td>\n",
       "      <td>272.200000</td>\n",
       "      <td>260 days 22:31:07.260000</td>\n",
       "      <td>8.000000</td>\n",
       "    </tr>\n",
       "    <tr>\n",
       "      <th>50%</th>\n",
       "      <td>9.930250e+08</td>\n",
       "      <td>5.000000</td>\n",
       "      <td>1.000000</td>\n",
       "      <td>0.000000</td>\n",
       "      <td>37.000000</td>\n",
       "      <td>23.000000</td>\n",
       "      <td>0.000000</td>\n",
       "      <td>325.000000</td>\n",
       "      <td>1.000000</td>\n",
       "      <td>1.000000</td>\n",
       "      <td>15.000000</td>\n",
       "      <td>1.000000</td>\n",
       "      <td>324.000000</td>\n",
       "      <td>0.000000</td>\n",
       "      <td>426.200000</td>\n",
       "      <td>291 days 08:15:24.010000</td>\n",
       "      <td>9.000000</td>\n",
       "    </tr>\n",
       "    <tr>\n",
       "      <th>75%</th>\n",
       "      <td>9.930340e+08</td>\n",
       "      <td>6.000000</td>\n",
       "      <td>1.000000</td>\n",
       "      <td>0.000000</td>\n",
       "      <td>120.000000</td>\n",
       "      <td>109.000000</td>\n",
       "      <td>1.000000</td>\n",
       "      <td>571.000000</td>\n",
       "      <td>1.000000</td>\n",
       "      <td>1.000000</td>\n",
       "      <td>19.000000</td>\n",
       "      <td>4.000000</td>\n",
       "      <td>430.200000</td>\n",
       "      <td>0.000000</td>\n",
       "      <td>529.200000</td>\n",
       "      <td>336 days 08:11:42.010000</td>\n",
       "      <td>11.000000</td>\n",
       "    </tr>\n",
       "    <tr>\n",
       "      <th>max</th>\n",
       "      <td>9.990268e+08</td>\n",
       "      <td>99.000000</td>\n",
       "      <td>1.000000</td>\n",
       "      <td>1.000000</td>\n",
       "      <td>9069.000000</td>\n",
       "      <td>8124.000000</td>\n",
       "      <td>24662.000000</td>\n",
       "      <td>64900.000000</td>\n",
       "      <td>1.000000</td>\n",
       "      <td>1.000000</td>\n",
       "      <td>31.000000</td>\n",
       "      <td>6726.000000</td>\n",
       "      <td>10741.700000</td>\n",
       "      <td>167440.000000</td>\n",
       "      <td>2150.800000</td>\n",
       "      <td>3140 days 03:39:43.010000</td>\n",
       "      <td>104.000000</td>\n",
       "    </tr>\n",
       "  </tbody>\n",
       "</table>\n",
       "</div>"
      ],
      "text/plain": [
       "        AMAIN_PP_ID  USER_ONLINE_DURA  G4_YICHANG_ESN_FLAG  \\\n",
       "count  4.489920e+05     448992.000000        448992.000000   \n",
       "mean   8.313951e+08          5.285473             0.554270   \n",
       "std    3.620822e+08          2.637171             0.497047   \n",
       "min    2.000100e+04          1.000000             0.000000   \n",
       "25%    9.930250e+08          4.000000             0.000000   \n",
       "50%    9.930250e+08          5.000000             1.000000   \n",
       "75%    9.930340e+08          6.000000             1.000000   \n",
       "max    9.990268e+08         99.000000             1.000000   \n",
       "\n",
       "       G4_YICHANG_SERV_FLAG  CALL_DURATION_AVG  CALL_TIMES_AVG  SMS_TIMES_AVG  \\\n",
       "count         448992.000000      448992.000000   448992.000000  448992.000000   \n",
       "mean               0.197404          93.193378      105.671763       1.936061   \n",
       "std                0.398041         206.413685      320.329271      46.498393   \n",
       "min                0.000000           0.000000        0.000000       0.000000   \n",
       "25%                0.000000           3.000000        4.000000       0.000000   \n",
       "50%                0.000000          37.000000       23.000000       0.000000   \n",
       "75%                0.000000         120.000000      109.000000       1.000000   \n",
       "max                1.000000        9069.000000     8124.000000   24662.000000   \n",
       "\n",
       "       IX_KBYTES_AVG    ACTIVE_FLAG     LEASE_FLAG  ACTIVE_DAY_NUM_AVG  \\\n",
       "count  448992.000000  448992.000000  448992.000000       448992.000000   \n",
       "mean      426.624490       0.906159       0.992753           13.450765   \n",
       "std       568.538545       0.291608       0.084822            7.658413   \n",
       "min         0.000000       0.000000       0.000000            0.000000   \n",
       "25%       137.000000       1.000000       1.000000            7.000000   \n",
       "50%       325.000000       1.000000       1.000000           15.000000   \n",
       "75%       571.000000       1.000000       1.000000           19.000000   \n",
       "max     64900.000000       1.000000       1.000000           31.000000   \n",
       "\n",
       "         JWQ_NUM_AVG         FEE_12    SETT_CHARGE  SETT_CHARGE_12  \\\n",
       "count  448992.000000  448992.000000  448992.000000   448992.000000   \n",
       "mean       20.080556     412.619556    3571.528604      457.657892   \n",
       "std       182.813505     342.275465   16112.286664      328.126553   \n",
       "min         0.000000      -9.190000   -6450.000000     -100.000000   \n",
       "25%         0.000000     246.900000       0.000000      272.200000   \n",
       "50%         1.000000     324.000000       0.000000      426.200000   \n",
       "75%         4.000000     430.200000       0.000000      529.200000   \n",
       "max      6726.000000   10741.700000  167440.000000     2150.800000   \n",
       "\n",
       "                  delta_time_now  delta_time_now_month  \n",
       "count                     448992         448992.000000  \n",
       "mean    301 days 13:50:33.006757              9.466469  \n",
       "std      79 days 19:55:33.046152              2.690013  \n",
       "min     156 days 23:30:50.010000              5.000000  \n",
       "25%     260 days 22:31:07.260000              8.000000  \n",
       "50%     291 days 08:15:24.010000              9.000000  \n",
       "75%     336 days 08:11:42.010000             11.000000  \n",
       "max    3140 days 03:39:43.010000            104.000000  "
      ]
     },
     "execution_count": 56,
     "metadata": {},
     "output_type": "execute_result"
    }
   ],
   "source": [
    "df.describe()"
   ]
  },
  {
   "cell_type": "markdown",
   "metadata": {},
   "source": [
    "### 1. 累计收入(FEE_12)的分布情况\n"
   ]
  },
  {
   "cell_type": "code",
   "execution_count": 57,
   "metadata": {
    "collapsed": true
   },
   "outputs": [],
   "source": [
    "import matplotlib\n",
    "matplotlib.rcParams['font.family']='SimHei'\n",
    "\n",
    "plt.subplot(121)\n",
    "sns.distplot(df['FEE_12'],kde=False)\n",
    "plt.xlabel(u'累计收入(元)')\n",
    "plt.subplot(122)\n",
    "sns.boxplot(df['FEE_12'])\n",
    "plt.xlabel(u'累计收入(元)')\n",
    "fig = plt.gcf()\n",
    "fig.set_size_inches(18.5, 7.5)\n",
    "\n",
    "# plt.show()\n",
    "plt.savefig('fee_total.png')"
   ]
  },
  {
   "cell_type": "markdown",
   "metadata": {},
   "source": [
    "可以看到大多数累计收入集中在2000元以下,少部分超出这个范围,我们进一步看看2000元以内的情况:"
   ]
  },
  {
   "cell_type": "code",
   "execution_count": 58,
   "metadata": {
    "collapsed": true
   },
   "outputs": [],
   "source": [
    "plt.subplot(121)\n",
    "sns.distplot(df['FEE_12'][df['FEE_12']<2000])\n",
    "plt.xlabel(u'累计收入(元)')\n",
    "plt.subplot(122)\n",
    "sns.boxplot(df['FEE_12'][df['FEE_12']<2000])\n",
    "plt.xlabel(u'累计收入(元)')\n",
    "fig = plt.gcf()\n",
    "fig.set_size_inches(18.5, 7.5)\n",
    "\n",
    "# plt.show()\n",
    "plt.savefig('fee_lt_2000.png')"
   ]
  },
  {
   "cell_type": "markdown",
   "metadata": {},
   "source": [
    "更进一步看看500以内的分布情况"
   ]
  },
  {
   "cell_type": "code",
   "execution_count": 59,
   "metadata": {
    "collapsed": true
   },
   "outputs": [],
   "source": [
    "plt.subplot(121)\n",
    "sns.distplot(df['FEE_12'][df['FEE_12']<500],kde=False)\n",
    "plt.xlabel(u'累计收入(元)')\n",
    "plt.subplot(122)\n",
    "sns.boxplot(df['FEE_12'][df['FEE_12']<500])\n",
    "plt.xlabel(u'累计收入(元)')\n",
    "fig = plt.gcf()\n",
    "fig.set_size_inches(18.5, 7.5)\n",
    "\n",
    "# plt.show()\n",
    "plt.savefig('fee_lt_500.png')"
   ]
  },
  {
   "cell_type": "markdown",
   "metadata": {},
   "source": [
    "## 2.在网时长的分布情况 "
   ]
  },
  {
   "cell_type": "code",
   "execution_count": 60,
   "metadata": {
    "collapsed": true
   },
   "outputs": [],
   "source": [
    "p = plt.figure()\n",
    "plt.subplot(121)\n",
    "sns.distplot(df['delta_time_now_month'],kde=False)\n",
    "plt.xlabel(u'在网时长(月)')\n",
    "plt.subplot(122)\n",
    "sns.boxplot(df['delta_time_now_month'])\n",
    "plt.xlabel(u'在网时长(月)')\n",
    "fig = plt.gcf()\n",
    "fig.set_size_inches(18.5, 7.5)\n",
    "\n",
    "# plt.show()\n",
    "plt.savefig('active.png')"
   ]
  },
  {
   "cell_type": "markdown",
   "metadata": {},
   "source": [
    "看看20个月以下的:"
   ]
  },
  {
   "cell_type": "code",
   "execution_count": 61,
   "metadata": {
    "collapsed": true
   },
   "outputs": [],
   "source": [
    "p = plt.figure()\n",
    "plt.subplot(121)\n",
    "x_range = np.arange(0, 20) \n",
    "\n",
    "sns.distplot(df['delta_time_now_month'][df['delta_time_now_month']<20],norm_hist=False,kde =False)#,kde_kws={'xticks':x_range})\n",
    "ax = plt.gca()\n",
    "ax.set_xticks(x_range)  \n",
    "# sns.set_style(rc={'xtick.major.size': 2})\n",
    "plt.xlabel(u'在网时长(月)')\n",
    "plt.subplot(122)\n",
    "sns.boxplot(df['delta_time_now_month'][df['delta_time_now_month']<20])\n",
    "plt.xlabel(u'在网时长(月)')\n",
    "fig = plt.gcf()\n",
    "fig.set_size_inches(18.5, 7.5)\n",
    "\n",
    "# plt.show()\n",
    "plt.savefig('active_lt_2000.png')"
   ]
  },
  {
   "cell_type": "markdown",
   "metadata": {},
   "source": [
    "## 3. 交往圈数量"
   ]
  },
  {
   "cell_type": "code",
   "execution_count": 62,
   "metadata": {
    "collapsed": true
   },
   "outputs": [],
   "source": [
    "p = plt.figure()\n",
    "plt.subplot(121)\n",
    "sns.distplot(df['JWQ_NUM_AVG'])\n",
    "plt.xlabel(u'交往圈数量(个)')\n",
    "plt.subplot(122)\n",
    "sns.boxplot(df['JWQ_NUM_AVG'])\n",
    "plt.xlabel(u'交往圈数量(个)')\n",
    "fig = plt.gcf()\n",
    "fig.set_size_inches(18.5, 7.5)\n",
    "\n",
    "# plt.show()\n",
    "plt.savefig('jwq_total.png')"
   ]
  },
  {
   "cell_type": "markdown",
   "metadata": {},
   "source": [
    "这个差异有点大,两边都看看,是什么情况"
   ]
  },
  {
   "cell_type": "markdown",
   "metadata": {},
   "source": [
    "### 3.1交往圈个数不高的分布情况(小于10)"
   ]
  },
  {
   "cell_type": "code",
   "execution_count": 63,
   "metadata": {
    "collapsed": true
   },
   "outputs": [],
   "source": [
    "p = plt.figure()\n",
    "plt.subplot(121)\n",
    "sns.distplot(df['JWQ_NUM_AVG'][df['JWQ_NUM_AVG']<10],kde=False)\n",
    "plt.xlabel(u'交往圈数量(个)')\n",
    "plt.subplot(122)\n",
    "sns.boxplot(df['JWQ_NUM_AVG'][df['JWQ_NUM_AVG']<10])\n",
    "plt.xlabel(u'交往圈数量(个)')\n",
    "fig = plt.gcf()\n",
    "fig.set_size_inches(18.5, 7.5)\n",
    "\n",
    "# plt.show()\n",
    "plt.savefig('jwq_lt_1000.png')"
   ]
  },
  {
   "cell_type": "markdown",
   "metadata": {},
   "source": [
    "### 3.2 交往圈个数很高的用户的分布情况(大于1000)"
   ]
  },
  {
   "cell_type": "code",
   "execution_count": 64,
   "metadata": {
    "collapsed": true
   },
   "outputs": [],
   "source": [
    "p = plt.figure()\n",
    "plt.subplot(121)\n",
    "sns.distplot(df['JWQ_NUM_AVG'][df['JWQ_NUM_AVG']>1000],kde = False)\n",
    "plt.xlabel(u'交往圈数量(个)')\n",
    "plt.subplot(122)\n",
    "sns.boxplot(df['JWQ_NUM_AVG'][df['JWQ_NUM_AVG']>1000])\n",
    "plt.xlabel(u'交往圈数量(个)')\n",
    "fig = plt.gcf()\n",
    "fig.set_size_inches(18.5, 7.5)\n",
    "\n",
    "# plt.show()\n",
    "plt.savefig('jwq_gt_1000.png')"
   ]
  },
  {
   "cell_type": "markdown",
   "metadata": {},
   "source": [
    "##  4. 活跃天数"
   ]
  },
  {
   "cell_type": "code",
   "execution_count": 65,
   "metadata": {
    "collapsed": true
   },
   "outputs": [],
   "source": [
    "p = plt.figure()\n",
    "plt.subplot(121)\n",
    "sns.distplot(df['ACTIVE_DAY_NUM_AVG'],kde=False)\n",
    "plt.xlabel(u'活跃天数(天)')\n",
    "plt.subplot(122)\n",
    "sns.boxplot(df['ACTIVE_DAY_NUM_AVG'])\n",
    "plt.xlabel(u'活跃天数(天)')\n",
    "fig = plt.gcf()\n",
    "fig.set_size_inches(18.5, 7.5)\n",
    "\n",
    "# plt.show()\n",
    "plt.savefig('active_day.png')"
   ]
  },
  {
   "cell_type": "markdown",
   "metadata": {},
   "source": [
    "## 5.语音次数 "
   ]
  },
  {
   "cell_type": "code",
   "execution_count": 66,
   "metadata": {
    "collapsed": true
   },
   "outputs": [],
   "source": [
    "p = plt.figure()\n",
    "plt.subplot(121)\n",
    "sns.distplot(df['CALL_TIMES_AVG'])\n",
    "plt.xlabel(u'语音次数(次)')\n",
    "plt.subplot(122)\n",
    "sns.boxplot(df['CALL_TIMES_AVG'])\n",
    "plt.xlabel(u'语音次数(次)')\n",
    "fig = plt.gcf()\n",
    "fig.set_size_inches(18.5, 7.5)\n",
    "\n",
    "# plt.show()\n",
    "plt.savefig('call_time.png')"
   ]
  },
  {
   "cell_type": "markdown",
   "metadata": {},
   "source": [
    "### 6.1 语音次数很低的用户的分布情况(小于300)"
   ]
  },
  {
   "cell_type": "code",
   "execution_count": 67,
   "metadata": {
    "collapsed": true
   },
   "outputs": [],
   "source": [
    "p = plt.figure()\n",
    "plt.subplot(121)\n",
    "sns.distplot(df['CALL_TIMES_AVG'][df['CALL_TIMES_AVG']<300],kde = False)\n",
    "plt.xlabel(u'语音次数(次)')\n",
    "plt.subplot(122)\n",
    "sns.boxplot(df['CALL_TIMES_AVG'][df['CALL_TIMES_AVG']<300])\n",
    "plt.xlabel(u'语音次数(次)')\n",
    "fig = plt.gcf()\n",
    "fig.set_size_inches(18.5, 7.5)\n",
    "\n",
    "# plt.show()\n",
    "plt.savefig('call_time_lt_300.png')"
   ]
  },
  {
   "cell_type": "markdown",
   "metadata": {},
   "source": [
    "### 6.1 语音次数很高的用户的分布情况(大于300)"
   ]
  },
  {
   "cell_type": "code",
   "execution_count": 68,
   "metadata": {
    "collapsed": true
   },
   "outputs": [],
   "source": [
    "p = plt.figure()\n",
    "plt.subplot(121)\n",
    "sns.distplot(df['CALL_TIMES_AVG'][df['CALL_TIMES_AVG']>300],kde = False)\n",
    "plt.xlabel(u'语音次数(次)')\n",
    "plt.subplot(122)\n",
    "sns.boxplot(df['CALL_TIMES_AVG'][df['CALL_TIMES_AVG']>300])\n",
    "plt.xlabel(u'语音次数(次)')\n",
    "fig = plt.gcf()\n",
    "fig.set_size_inches(18.5, 7.5)\n",
    "\n",
    "# plt.show()\n",
    "plt.savefig('call_time_gt_300.png')"
   ]
  },
  {
   "cell_type": "markdown",
   "metadata": {},
   "source": [
    "## 6.通话时长的分布 "
   ]
  },
  {
   "cell_type": "code",
   "execution_count": 69,
   "metadata": {
    "collapsed": true
   },
   "outputs": [],
   "source": [
    "p = plt.figure()\n",
    "plt.subplot(121)\n",
    "sns.distplot(df['CALL_DURATION_AVG'][df['CALL_DURATION_AVG']],kde = False)\n",
    "plt.xlabel(u'通话时长(分钟)')\n",
    "plt.subplot(122)\n",
    "sns.boxplot(df['CALL_DURATION_AVG'][df['CALL_DURATION_AVG']])\n",
    "plt.xlabel(u'通话时长(分钟)')\n",
    "fig = plt.gcf()\n",
    "fig.set_size_inches(18.5, 7.5)\n",
    "\n",
    "# plt.show()\n",
    "plt.savefig('call_duration.png')"
   ]
  },
  {
   "cell_type": "markdown",
   "metadata": {},
   "source": [
    "大多数都集中在10以下,有的用户通话时长真是匪夷所思的长啊..."
   ]
  },
  {
   "cell_type": "markdown",
   "metadata": {},
   "source": [
    "### 6.1通话时长较短的用户分布情况(小于100)"
   ]
  },
  {
   "cell_type": "code",
   "execution_count": 70,
   "metadata": {
    "collapsed": true
   },
   "outputs": [],
   "source": [
    "p = plt.figure()\n",
    "plt.subplot(121)\n",
    "sns.distplot(df['CALL_DURATION_AVG'][df['CALL_DURATION_AVG']<100],kde = False)\n",
    "plt.xlabel(u'通话时长(分钟)')\n",
    "plt.subplot(122)\n",
    "sns.boxplot(df['CALL_DURATION_AVG'][df['CALL_DURATION_AVG']<100])\n",
    "plt.xlabel(u'通话时长(分钟)')\n",
    "fig = plt.gcf()\n",
    "fig.set_size_inches(18.5, 7.5)\n",
    "\n",
    "# plt.show()\n",
    "plt.savefig('call_duration_lt_100.png')"
   ]
  },
  {
   "cell_type": "markdown",
   "metadata": {},
   "source": [
    "## 7.流量使用情况"
   ]
  },
  {
   "cell_type": "code",
   "execution_count": 71,
   "metadata": {
    "collapsed": true
   },
   "outputs": [],
   "source": [
    "p = plt.figure()\n",
    "plt.subplot(121)\n",
    "sns.distplot(df['IX_KBYTES_AVG'][df['IX_KBYTES_AVG']],kde = False)\n",
    "plt.xlabel(u'流量使用')\n",
    "plt.subplot(122)\n",
    "sns.boxplot(df['IX_KBYTES_AVG'][df['IX_KBYTES_AVG']])\n",
    "plt.xlabel(u'流量使用')\n",
    "fig = plt.gcf()\n",
    "fig.set_size_inches(18.5, 7.5)\n",
    "\n",
    "# plt.show()\n",
    "plt.savefig('ix_byte.png')"
   ]
  },
  {
   "cell_type": "markdown",
   "metadata": {},
   "source": [
    "除个别用户外,基本没有什么使用量"
   ]
  },
  {
   "cell_type": "code",
   "execution_count": 80,
   "metadata": {
    "collapsed": true
   },
   "outputs": [],
   "source": [
    "p = plt.figure()\n",
    "plt.subplot(121)\n",
    "sns.distplot(df['IX_KBYTES_AVG'][df['IX_KBYTES_AVG']<50],kde = False)\n",
    "plt.xlabel(u'流量使用')\n",
    "plt.subplot(122)\n",
    "sns.boxplot(df['IX_KBYTES_AVG'][df['IX_KBYTES_AVG']<50])\n",
    "plt.xlabel(u'流量使用')\n",
    "fig = plt.gcf()\n",
    "fig.set_size_inches(18.5, 7.5)\n",
    "\n",
    "# plt.show()\n",
    "plt.savefig('ix_byte_lt_50.png')"
   ]
  },
  {
   "cell_type": "markdown",
   "metadata": {},
   "source": [
    "## 8.短信情况"
   ]
  },
  {
   "cell_type": "code",
   "execution_count": 73,
   "metadata": {
    "collapsed": true
   },
   "outputs": [],
   "source": [
    "p = plt.figure()\n",
    "plt.subplot(121)\n",
    "sns.distplot(df['SMS_TIMES_AVG'][df['SMS_TIMES_AVG']],kde = False)\n",
    "plt.xlabel(u'短信条数')\n",
    "plt.subplot(122)\n",
    "sns.boxplot(df['SMS_TIMES_AVG'][df['SMS_TIMES_AVG']])\n",
    "plt.xlabel(u'短信条数')\n",
    "fig = plt.gcf()\n",
    "fig.set_size_inches(18.5, 7.5)\n",
    "\n",
    "# plt.show()\n",
    "plt.savefig('sms.png')"
   ]
  },
  {
   "cell_type": "markdown",
   "metadata": {},
   "source": [
    "大多数用户不发短信,也有个别发几百条的用户"
   ]
  },
  {
   "cell_type": "markdown",
   "metadata": {},
   "source": [
    "### 8.1 10条以内的用户分布情况"
   ]
  },
  {
   "cell_type": "code",
   "execution_count": 74,
   "metadata": {
    "collapsed": true
   },
   "outputs": [],
   "source": [
    "p = plt.figure()\n",
    "plt.subplot(121)\n",
    "sns.distplot(df['SMS_TIMES_AVG'][df['SMS_TIMES_AVG']<10],kde = False)\n",
    "plt.xlabel(u'短信条数')\n",
    "plt.subplot(122)\n",
    "sns.boxplot(df['SMS_TIMES_AVG'][df['SMS_TIMES_AVG']<10])\n",
    "plt.xlabel(u'短信条数')\n",
    "fig = plt.gcf()\n",
    "fig.set_size_inches(18.5, 7.5)\n",
    "\n",
    "# plt.show()\n",
    "plt.savefig('sms_lt_10.png')"
   ]
  },
  {
   "cell_type": "markdown",
   "metadata": {},
   "source": [
    "## 9.  一机多卡,一卡多机"
   ]
  },
  {
   "cell_type": "code",
   "execution_count": 75,
   "metadata": {},
   "outputs": [
    {
     "name": "stderr",
     "output_type": "stream",
     "text": [
      "D:\\develop\\Anaconda\\envs\\py27\\lib\\site-packages\\matplotlib\\pyplot.py:524: RuntimeWarning: More than 20 figures have been opened. Figures created through the pyplot interface (`matplotlib.pyplot.figure`) are retained until explicitly closed and may consume too much memory. (To control this warning, see the rcParam `figure.max_open_warning`).\n",
      "  max_open_warning, RuntimeWarning)\n"
     ]
    }
   ],
   "source": [
    "p = plt.figure()\n",
    "plt.subplot(121)\n",
    "sns.countplot(df['G4_YICHANG_ESN_FLAG'])\n",
    "# plt.xlabel(u'短信条数')\n",
    "plt.subplot(122)\n",
    "sns.countplot(df['G4_YICHANG_SERV_FLAG'])\n",
    "# plt.xlabel(u'短信条数')\n",
    "fig = plt.gcf()\n",
    "fig.set_size_inches(18.5, 7.5)\n",
    "\n",
    "# plt.show()\n",
    "plt.savefig('ykdj_yjdk.png')"
   ]
  },
  {
   "cell_type": "markdown",
   "metadata": {},
   "source": [
    "1意味着是,0意味着否 "
   ]
  },
  {
   "cell_type": "markdown",
   "metadata": {},
   "source": [
    "## 9.基站聚集情况"
   ]
  },
  {
   "cell_type": "code",
   "execution_count": 76,
   "metadata": {
    "collapsed": true
   },
   "outputs": [],
   "source": [
    "# # plt.subplot(411)\n",
    "# # plt.figure()\n",
    "# sns.countplot(x = 'FIRST_CALL_MSC_CELLID_201706',data = df)\n",
    "# # plt.xlabel(u'短信条数')\n",
    "# # plt.subplot(412)\n",
    "# # sns.countplot(df['FIRST_CALL_MSC_CELLID_201705'])\n",
    "# # plt.subplot(413)\n",
    "# # sns.countplot(df['FIRST_CALL_MSC_CELLID_201704'])\n",
    "# # plt.subplot(414)\n",
    "# # sns.countplot(df['FIRST_CALL_MSC_CELLID_201703'])\n",
    "# # plt.xlabel(u'短信条数')\n",
    "# fig = plt.gcf()\n",
    "# fig.set_size_inches(18.5, 7.5)\n",
    "\n",
    "# # plt.show()\n",
    "# plt.savefig('cell.png')"
   ]
  },
  {
   "cell_type": "code",
   "execution_count": 77,
   "metadata": {
    "collapsed": true
   },
   "outputs": [],
   "source": [
    "# cell = df['FIRST_CALL_MSC_CELLID_201706']\n",
    "# df.groupby('FIRST_CALL_MSC_CELLID_201706').size().sort_values(ascending=False)\n",
    "# g = cell.groupby('FIRST_CALL_MSC_CELLID_201706').count()\n",
    "\n",
    "\n",
    "# g.sort_values('FIRST_CALL_MSC_CELLID_201706', ascending=False)"
   ]
  },
  {
   "cell_type": "markdown",
   "metadata": {},
   "source": [
    "从上到下是6月到3月降序排列的.可以看到,在被关停的用户中,他们每个月通话最多的基站并不是固定的"
   ]
  },
  {
   "cell_type": "markdown",
   "metadata": {},
   "source": [
    "## 10. 发展部门分布"
   ]
  },
  {
   "cell_type": "code",
   "execution_count": 3,
   "metadata": {
    "collapsed": true,
    "scrolled": false
   },
   "outputs": [],
   "source": [
    "# sns.countplot(df['USER_DEVELOP_DEPART_ID'])\n",
    "# fig = plt.gcf()\n",
    "# fig.set_size_inches(18.5, 7.5)\n",
    "\n",
    "# # plt.show()\n",
    "# plt.savefig('dept.png')\n",
    "df['rate'] = df['SETT_CHARGE_12']/(df['FEE_12'])\n",
    "df['rate'] = df['rate'].replace(np.inf, 999)\n",
    "# r = r.dropna()\n"
   ]
  },
  {
   "cell_type": "code",
   "execution_count": 33,
   "metadata": {},
   "outputs": [
    {
     "data": {
      "image/png": "[encoded data removed]",
      "text/plain": [
       "<matplotlib.figure.Figure at 0x17561eb8>"
      ]
     },
     "metadata": {},
     "output_type": "display_data"
    }
   ],
   "source": [
    "sns.distplot(df['rate'])\n",
    "plt.xlabel(u'rate')\n",
    "fig = plt.gcf()\n",
    "fig.set_size_inches(18.5, 7.5)\n",
    "\n",
    "plt.show()"
   ]
  },
  {
   "cell_type": "code",
   "execution_count": 6,
   "metadata": {},
   "outputs": [
    {
     "ename": "NameError",
     "evalue": "name 'r' is not defined",
     "output_type": "error",
     "traceback": [
      "\u001b[1;31m---------------------------------------------------------------------------\u001b[0m",
      "\u001b[1;31mNameError\u001b[0m                                 Traceback (most recent call last)",
      "\u001b[1;32m<ipython-input-6-e3ac4bfb9c15>\u001b[0m in \u001b[0;36m<module>\u001b[1;34m()\u001b[0m\n\u001b[1;32m----> 1\u001b[1;33m \u001b[0mr\u001b[0m\u001b[1;33m[\u001b[0m\u001b[0mr\u001b[0m\u001b[1;33m>\u001b[0m\u001b[1;36m10\u001b[0m\u001b[1;33m]\u001b[0m\u001b[1;33m\u001b[0m\u001b[0m\n\u001b[0m",
      "\u001b[1;31mNameError\u001b[0m: name 'r' is not defined"
     ]
    }
   ],
   "source": [
    "r[r>10]"
   ]
  },
  {
   "cell_type": "code",
   "execution_count": 7,
   "metadata": {},
   "outputs": [
    {
     "data": {
      "image/png": "[encoded data removed]",
      "text/plain": [
       "<matplotlib.figure.Figure at 0x6105320>"
      ]
     },
     "metadata": {},
     "output_type": "display_data"
    }
   ],
   "source": [
    "\n",
    "# plt.subplot(121)\n",
    "sns.distplot(df['rate'][(df['rate']<2) & (df['rate']>0)],kde=False)\n",
    "# plt.xlabel(u'rate')\n",
    "# plt.subplot(122)\n",
    "# sns.boxplot(df['r'][df['r']<1 & df['r']>0])\n",
    "plt.xlabel(u'rate')\n",
    "fig = plt.gcf()\n",
    "fig.set_size_inches(18.5, 7.5)\n",
    "\n",
    "plt.show()\n",
    "# plt.savefig('ix_byte_lt_50.png')"
   ]
  },
  {
   "cell_type": "code",
   "execution_count": null,
   "metadata": {
    "collapsed": true
   },
   "outputs": [],
   "source": []
  },
  {
   "cell_type": "code",
   "execution_count": 2,
   "metadata": {},
   "outputs": [
    {
     "ename": "KeyError",
     "evalue": "'rate'",
     "output_type": "error",
     "traceback": [
      "\u001b[1;31m---------------------------------------------------------------------------\u001b[0m",
      "\u001b[1;31mKeyError\u001b[0m                                  Traceback (most recent call last)",
      "\u001b[1;32m<ipython-input-2-2c9dff060971>\u001b[0m in \u001b[0;36m<module>\u001b[1;34m()\u001b[0m\n\u001b[0;32m     11\u001b[0m         \u001b[1;32mreturn\u001b[0m \u001b[1;34m'> 2'\u001b[0m\u001b[1;33m\u001b[0m\u001b[0m\n\u001b[0;32m     12\u001b[0m \u001b[1;33m\u001b[0m\u001b[0m\n\u001b[1;32m---> 13\u001b[1;33m \u001b[0mdf\u001b[0m\u001b[1;33m[\u001b[0m\u001b[1;34m'category_rate'\u001b[0m\u001b[1;33m]\u001b[0m \u001b[1;33m=\u001b[0m \u001b[0mdf\u001b[0m\u001b[1;33m[\u001b[0m\u001b[1;34m'rate'\u001b[0m\u001b[1;33m]\u001b[0m\u001b[1;33m.\u001b[0m\u001b[0mapply\u001b[0m\u001b[1;33m(\u001b[0m\u001b[0msplit_rate\u001b[0m\u001b[1;33m)\u001b[0m\u001b[1;33m\u001b[0m\u001b[0m\n\u001b[0m\u001b[0;32m     14\u001b[0m \u001b[1;33m\u001b[0m\u001b[0m\n",
      "\u001b[1;32mD:\\develop\\Anaconda\\envs\\py27\\lib\\site-packages\\pandas\\core\\frame.pyc\u001b[0m in \u001b[0;36m__getitem__\u001b[1;34m(self, key)\u001b[0m\n\u001b[0;32m   1962\u001b[0m             \u001b[1;32mreturn\u001b[0m \u001b[0mself\u001b[0m\u001b[1;33m.\u001b[0m\u001b[0m_getitem_multilevel\u001b[0m\u001b[1;33m(\u001b[0m\u001b[0mkey\u001b[0m\u001b[1;33m)\u001b[0m\u001b[1;33m\u001b[0m\u001b[0m\n\u001b[0;32m   1963\u001b[0m         \u001b[1;32melse\u001b[0m\u001b[1;33m:\u001b[0m\u001b[1;33m\u001b[0m\u001b[0m\n\u001b[1;32m-> 1964\u001b[1;33m             \u001b[1;32mreturn\u001b[0m \u001b[0mself\u001b[0m\u001b[1;33m.\u001b[0m\u001b[0m_getitem_column\u001b[0m\u001b[1;33m(\u001b[0m\u001b[0mkey\u001b[0m\u001b[1;33m)\u001b[0m\u001b[1;33m\u001b[0m\u001b[0m\n\u001b[0m\u001b[0;32m   1965\u001b[0m \u001b[1;33m\u001b[0m\u001b[0m\n\u001b[0;32m   1966\u001b[0m     \u001b[1;32mdef\u001b[0m \u001b[0m_getitem_column\u001b[0m\u001b[1;33m(\u001b[0m\u001b[0mself\u001b[0m\u001b[1;33m,\u001b[0m \u001b[0mkey\u001b[0m\u001b[1;33m)\u001b[0m\u001b[1;33m:\u001b[0m\u001b[1;33m\u001b[0m\u001b[0m\n",
      "\u001b[1;32mD:\\develop\\Anaconda\\envs\\py27\\lib\\site-packages\\pandas\\core\\frame.pyc\u001b[0m in \u001b[0;36m_getitem_column\u001b[1;34m(self, key)\u001b[0m\n\u001b[0;32m   1969\u001b[0m         \u001b[1;31m# get column\u001b[0m\u001b[1;33m\u001b[0m\u001b[1;33m\u001b[0m\u001b[0m\n\u001b[0;32m   1970\u001b[0m         \u001b[1;32mif\u001b[0m \u001b[0mself\u001b[0m\u001b[1;33m.\u001b[0m\u001b[0mcolumns\u001b[0m\u001b[1;33m.\u001b[0m\u001b[0mis_unique\u001b[0m\u001b[1;33m:\u001b[0m\u001b[1;33m\u001b[0m\u001b[0m\n\u001b[1;32m-> 1971\u001b[1;33m             \u001b[1;32mreturn\u001b[0m \u001b[0mself\u001b[0m\u001b[1;33m.\u001b[0m\u001b[0m_get_item_cache\u001b[0m\u001b[1;33m(\u001b[0m\u001b[0mkey\u001b[0m\u001b[1;33m)\u001b[0m\u001b[1;33m\u001b[0m\u001b[0m\n\u001b[0m\u001b[0;32m   1972\u001b[0m \u001b[1;33m\u001b[0m\u001b[0m\n\u001b[0;32m   1973\u001b[0m         \u001b[1;31m# duplicate columns & possible reduce dimensionality\u001b[0m\u001b[1;33m\u001b[0m\u001b[1;33m\u001b[0m\u001b[0m\n",
      "\u001b[1;32mD:\\develop\\Anaconda\\envs\\py27\\lib\\site-packages\\pandas\\core\\generic.pyc\u001b[0m in \u001b[0;36m_get_item_cache\u001b[1;34m(self, item)\u001b[0m\n\u001b[0;32m   1643\u001b[0m         \u001b[0mres\u001b[0m \u001b[1;33m=\u001b[0m \u001b[0mcache\u001b[0m\u001b[1;33m.\u001b[0m\u001b[0mget\u001b[0m\u001b[1;33m(\u001b[0m\u001b[0mitem\u001b[0m\u001b[1;33m)\u001b[0m\u001b[1;33m\u001b[0m\u001b[0m\n\u001b[0;32m   1644\u001b[0m         \u001b[1;32mif\u001b[0m \u001b[0mres\u001b[0m \u001b[1;32mis\u001b[0m \u001b[0mNone\u001b[0m\u001b[1;33m:\u001b[0m\u001b[1;33m\u001b[0m\u001b[0m\n\u001b[1;32m-> 1645\u001b[1;33m             \u001b[0mvalues\u001b[0m \u001b[1;33m=\u001b[0m \u001b[0mself\u001b[0m\u001b[1;33m.\u001b[0m\u001b[0m_data\u001b[0m\u001b[1;33m.\u001b[0m\u001b[0mget\u001b[0m\u001b[1;33m(\u001b[0m\u001b[0mitem\u001b[0m\u001b[1;33m)\u001b[0m\u001b[1;33m\u001b[0m\u001b[0m\n\u001b[0m\u001b[0;32m   1646\u001b[0m             \u001b[0mres\u001b[0m \u001b[1;33m=\u001b[0m \u001b[0mself\u001b[0m\u001b[1;33m.\u001b[0m\u001b[0m_box_item_values\u001b[0m\u001b[1;33m(\u001b[0m\u001b[0mitem\u001b[0m\u001b[1;33m,\u001b[0m \u001b[0mvalues\u001b[0m\u001b[1;33m)\u001b[0m\u001b[1;33m\u001b[0m\u001b[0m\n\u001b[0;32m   1647\u001b[0m             \u001b[0mcache\u001b[0m\u001b[1;33m[\u001b[0m\u001b[0mitem\u001b[0m\u001b[1;33m]\u001b[0m \u001b[1;33m=\u001b[0m \u001b[0mres\u001b[0m\u001b[1;33m\u001b[0m\u001b[0m\n",
      "\u001b[1;32mD:\\develop\\Anaconda\\envs\\py27\\lib\\site-packages\\pandas\\core\\internals.pyc\u001b[0m in \u001b[0;36mget\u001b[1;34m(self, item, fastpath)\u001b[0m\n\u001b[0;32m   3588\u001b[0m \u001b[1;33m\u001b[0m\u001b[0m\n\u001b[0;32m   3589\u001b[0m             \u001b[1;32mif\u001b[0m \u001b[1;32mnot\u001b[0m \u001b[0misnull\u001b[0m\u001b[1;33m(\u001b[0m\u001b[0mitem\u001b[0m\u001b[1;33m)\u001b[0m\u001b[1;33m:\u001b[0m\u001b[1;33m\u001b[0m\u001b[0m\n\u001b[1;32m-> 3590\u001b[1;33m                 \u001b[0mloc\u001b[0m \u001b[1;33m=\u001b[0m \u001b[0mself\u001b[0m\u001b[1;33m.\u001b[0m\u001b[0mitems\u001b[0m\u001b[1;33m.\u001b[0m\u001b[0mget_loc\u001b[0m\u001b[1;33m(\u001b[0m\u001b[0mitem\u001b[0m\u001b[1;33m)\u001b[0m\u001b[1;33m\u001b[0m\u001b[0m\n\u001b[0m\u001b[0;32m   3591\u001b[0m             \u001b[1;32melse\u001b[0m\u001b[1;33m:\u001b[0m\u001b[1;33m\u001b[0m\u001b[0m\n\u001b[0;32m   3592\u001b[0m                 \u001b[0mindexer\u001b[0m \u001b[1;33m=\u001b[0m \u001b[0mnp\u001b[0m\u001b[1;33m.\u001b[0m\u001b[0marange\u001b[0m\u001b[1;33m(\u001b[0m\u001b[0mlen\u001b[0m\u001b[1;33m(\u001b[0m\u001b[0mself\u001b[0m\u001b[1;33m.\u001b[0m\u001b[0mitems\u001b[0m\u001b[1;33m)\u001b[0m\u001b[1;33m)\u001b[0m\u001b[1;33m[\u001b[0m\u001b[0misnull\u001b[0m\u001b[1;33m(\u001b[0m\u001b[0mself\u001b[0m\u001b[1;33m.\u001b[0m\u001b[0mitems\u001b[0m\u001b[1;33m)\u001b[0m\u001b[1;33m]\u001b[0m\u001b[1;33m\u001b[0m\u001b[0m\n",
      "\u001b[1;32mD:\\develop\\Anaconda\\envs\\py27\\lib\\site-packages\\pandas\\core\\indexes\\base.pyc\u001b[0m in \u001b[0;36mget_loc\u001b[1;34m(self, key, method, tolerance)\u001b[0m\n\u001b[0;32m   2442\u001b[0m                 \u001b[1;32mreturn\u001b[0m \u001b[0mself\u001b[0m\u001b[1;33m.\u001b[0m\u001b[0m_engine\u001b[0m\u001b[1;33m.\u001b[0m\u001b[0mget_loc\u001b[0m\u001b[1;33m(\u001b[0m\u001b[0mkey\u001b[0m\u001b[1;33m)\u001b[0m\u001b[1;33m\u001b[0m\u001b[0m\n\u001b[0;32m   2443\u001b[0m             \u001b[1;32mexcept\u001b[0m \u001b[0mKeyError\u001b[0m\u001b[1;33m:\u001b[0m\u001b[1;33m\u001b[0m\u001b[0m\n\u001b[1;32m-> 2444\u001b[1;33m                 \u001b[1;32mreturn\u001b[0m \u001b[0mself\u001b[0m\u001b[1;33m.\u001b[0m\u001b[0m_engine\u001b[0m\u001b[1;33m.\u001b[0m\u001b[0mget_loc\u001b[0m\u001b[1;33m(\u001b[0m\u001b[0mself\u001b[0m\u001b[1;33m.\u001b[0m\u001b[0m_maybe_cast_indexer\u001b[0m\u001b[1;33m(\u001b[0m\u001b[0mkey\u001b[0m\u001b[1;33m)\u001b[0m\u001b[1;33m)\u001b[0m\u001b[1;33m\u001b[0m\u001b[0m\n\u001b[0m\u001b[0;32m   2445\u001b[0m \u001b[1;33m\u001b[0m\u001b[0m\n\u001b[0;32m   2446\u001b[0m         \u001b[0mindexer\u001b[0m \u001b[1;33m=\u001b[0m \u001b[0mself\u001b[0m\u001b[1;33m.\u001b[0m\u001b[0mget_indexer\u001b[0m\u001b[1;33m(\u001b[0m\u001b[1;33m[\u001b[0m\u001b[0mkey\u001b[0m\u001b[1;33m]\u001b[0m\u001b[1;33m,\u001b[0m \u001b[0mmethod\u001b[0m\u001b[1;33m=\u001b[0m\u001b[0mmethod\u001b[0m\u001b[1;33m,\u001b[0m \u001b[0mtolerance\u001b[0m\u001b[1;33m=\u001b[0m\u001b[0mtolerance\u001b[0m\u001b[1;33m)\u001b[0m\u001b[1;33m\u001b[0m\u001b[0m\n",
      "\u001b[1;32mpandas\\_libs\\index.pyx\u001b[0m in \u001b[0;36mpandas._libs.index.IndexEngine.get_loc\u001b[1;34m()\u001b[0m\n",
      "\u001b[1;32mpandas\\_libs\\index.pyx\u001b[0m in \u001b[0;36mpandas._libs.index.IndexEngine.get_loc\u001b[1;34m()\u001b[0m\n",
      "\u001b[1;32mpandas\\_libs\\hashtable_class_helper.pxi\u001b[0m in \u001b[0;36mpandas._libs.hashtable.PyObjectHashTable.get_item\u001b[1;34m()\u001b[0m\n",
      "\u001b[1;32mpandas\\_libs\\hashtable_class_helper.pxi\u001b[0m in \u001b[0;36mpandas._libs.hashtable.PyObjectHashTable.get_item\u001b[1;34m()\u001b[0m\n",
      "\u001b[1;31mKeyError\u001b[0m: 'rate'"
     ]
    }
   ],
   "source": [
    "def split_rate(rate):\n",
    "    if rate < 0.5:\n",
    "        return '< 0.5'\n",
    "    elif rate >= 0.5 and rate < 1:\n",
    "        return '0.5 - 1'\n",
    "    elif rate >= 1 and rate <1.5:\n",
    "        return '1 - 1.5'\n",
    "    elif rate >= 1.5 and rate <2:\n",
    "        return  '1.5 - 2'\n",
    "    else:\n",
    "        return '> 2'\n",
    "\n",
    "df['category_rate'] = df['rate'].apply(split_rate)\n",
    "    "
   ]
  },
  {
   "cell_type": "code",
   "execution_count": 90,
   "metadata": {},
   "outputs": [
    {
     "data": {
      "image/png": "[encoded data removed]",
      "text/plain": [
       "<matplotlib.figure.Figure at 0x15fbab70>"
      ]
     },
     "metadata": {},
     "output_type": "display_data"
    }
   ],
   "source": [
    "\n",
    "# plt.subplot(121)\n",
    "sns.distplot(normal['rate'][(normal['rate']<2) & (normal['rate']>0)])\n",
    "# plt.xlabel(u'rate')\n",
    "# plt.subplot(122)\n",
    "# sns.boxplot(df['r'][df['r']<1 & df['r']>0])\n",
    "plt.xlabel(u'rate')\n",
    "fig = plt.gcf()\n",
    "fig.set_size_inches(18.5, 7.5)\n",
    "\n",
    "plt.show()\n",
    "# plt.savefig('ix_byte_lt_50.png')"
   ]
  },
  {
   "cell_type": "code",
   "execution_count": 14,
   "metadata": {
    "collapsed": true
   },
   "outputs": [],
   "source": [
    "import matplotlib\n",
    "matplotlib.rcParams['font.family']='SimHei'\n",
    "ax = sns.countplot(df['category_rate'])\n",
    "total = float(len(df))\n",
    "for p in ax.patches:\n",
    "    height = p.get_height()\n",
    "    ax.text(p.get_x()+p.get_width()/2.,\n",
    "            height + 3,\n",
    "            '{:.0%}'.format(height/total),\n",
    "            ha=\"center\") \n",
    "plt.xlabel(u'比率范围')\n",
    "plt.ylabel(u'用户数量')\n",
    "plt.title(u'佣金占收入比率用户数分布情况（关停用户）')\n",
    "plt.savefig('portion_fig.png')"
   ]
  },
  {
   "cell_type": "code",
   "execution_count": 96,
   "metadata": {},
   "outputs": [
    {
     "data": {
      "text/html": [
       "<div>\n",
       "<style>\n",
       "    .dataframe thead tr:only-child th {\n",
       "        text-align: right;\n",
       "    }\n",
       "\n",
       "    .dataframe thead th {\n",
       "        text-align: left;\n",
       "    }\n",
       "\n",
       "    .dataframe tbody tr th {\n",
       "        vertical-align: top;\n",
       "    }\n",
       "</style>\n",
       "<table border=\"1\" class=\"dataframe\">\n",
       "  <thead>\n",
       "    <tr style=\"text-align: right;\">\n",
       "      <th></th>\n",
       "      <th>USER_ID</th>\n",
       "      <th>ACC_NBR</th>\n",
       "      <th>AMAIN_PP_ID</th>\n",
       "      <th>OPEN_DATE</th>\n",
       "      <th>USER_ONLINE_DURA</th>\n",
       "      <th>USER_DEVELOP_DEPART_ID</th>\n",
       "      <th>DEPT_NAME2</th>\n",
       "      <th>DEPT_NAME3</th>\n",
       "      <th>DEPT_NAME4</th>\n",
       "      <th>DEPT_NAME5</th>\n",
       "      <th>...</th>\n",
       "      <th>FIRST_CALL_MSC_CELLID_201704</th>\n",
       "      <th>FIRST_CALL_MSC_CELLID_201705</th>\n",
       "      <th>FIRST_CALL_MSC_CELLID_201706</th>\n",
       "      <th>FEE_12</th>\n",
       "      <th>SETT_CHARGE</th>\n",
       "      <th>SETT_CHARGE_12</th>\n",
       "      <th>delta_time_now</th>\n",
       "      <th>delta_time_now_month</th>\n",
       "      <th>rate</th>\n",
       "      <th>r</th>\n",
       "    </tr>\n",
       "    <tr>\n",
       "      <th>category_rate</th>\n",
       "      <th></th>\n",
       "      <th></th>\n",
       "      <th></th>\n",
       "      <th></th>\n",
       "      <th></th>\n",
       "      <th></th>\n",
       "      <th></th>\n",
       "      <th></th>\n",
       "      <th></th>\n",
       "      <th></th>\n",
       "      <th></th>\n",
       "      <th></th>\n",
       "      <th></th>\n",
       "      <th></th>\n",
       "      <th></th>\n",
       "      <th></th>\n",
       "      <th></th>\n",
       "      <th></th>\n",
       "      <th></th>\n",
       "      <th></th>\n",
       "      <th></th>\n",
       "    </tr>\n",
       "  </thead>\n",
       "  <tbody>\n",
       "    <tr>\n",
       "      <th>0.5 - 1</th>\n",
       "      <td>113227</td>\n",
       "      <td>113227</td>\n",
       "      <td>113227</td>\n",
       "      <td>113227</td>\n",
       "      <td>113227</td>\n",
       "      <td>113227</td>\n",
       "      <td>113214</td>\n",
       "      <td>113214</td>\n",
       "      <td>113214</td>\n",
       "      <td>113214</td>\n",
       "      <td>...</td>\n",
       "      <td>71552</td>\n",
       "      <td>81266</td>\n",
       "      <td>74292</td>\n",
       "      <td>113227</td>\n",
       "      <td>113227</td>\n",
       "      <td>113227</td>\n",
       "      <td>113227</td>\n",
       "      <td>113227</td>\n",
       "      <td>113227</td>\n",
       "      <td>113227</td>\n",
       "    </tr>\n",
       "    <tr>\n",
       "      <th>1 - 1.5</th>\n",
       "      <td>127091</td>\n",
       "      <td>127091</td>\n",
       "      <td>127091</td>\n",
       "      <td>127091</td>\n",
       "      <td>127091</td>\n",
       "      <td>127091</td>\n",
       "      <td>127091</td>\n",
       "      <td>127091</td>\n",
       "      <td>127091</td>\n",
       "      <td>127091</td>\n",
       "      <td>...</td>\n",
       "      <td>92707</td>\n",
       "      <td>91304</td>\n",
       "      <td>84127</td>\n",
       "      <td>127091</td>\n",
       "      <td>127091</td>\n",
       "      <td>127091</td>\n",
       "      <td>127091</td>\n",
       "      <td>127091</td>\n",
       "      <td>127091</td>\n",
       "      <td>127091</td>\n",
       "    </tr>\n",
       "    <tr>\n",
       "      <th>1.5 - 2</th>\n",
       "      <td>109587</td>\n",
       "      <td>109587</td>\n",
       "      <td>109587</td>\n",
       "      <td>109587</td>\n",
       "      <td>109587</td>\n",
       "      <td>109587</td>\n",
       "      <td>109587</td>\n",
       "      <td>109587</td>\n",
       "      <td>109587</td>\n",
       "      <td>109587</td>\n",
       "      <td>...</td>\n",
       "      <td>94427</td>\n",
       "      <td>93312</td>\n",
       "      <td>89205</td>\n",
       "      <td>109587</td>\n",
       "      <td>109587</td>\n",
       "      <td>109587</td>\n",
       "      <td>109587</td>\n",
       "      <td>109587</td>\n",
       "      <td>109587</td>\n",
       "      <td>109587</td>\n",
       "    </tr>\n",
       "    <tr>\n",
       "      <th>&lt; 0.5</th>\n",
       "      <td>60520</td>\n",
       "      <td>60520</td>\n",
       "      <td>60520</td>\n",
       "      <td>60520</td>\n",
       "      <td>60520</td>\n",
       "      <td>60520</td>\n",
       "      <td>60420</td>\n",
       "      <td>60420</td>\n",
       "      <td>60420</td>\n",
       "      <td>60420</td>\n",
       "      <td>...</td>\n",
       "      <td>31127</td>\n",
       "      <td>43381</td>\n",
       "      <td>42820</td>\n",
       "      <td>60520</td>\n",
       "      <td>60520</td>\n",
       "      <td>60520</td>\n",
       "      <td>60520</td>\n",
       "      <td>60520</td>\n",
       "      <td>60520</td>\n",
       "      <td>60520</td>\n",
       "    </tr>\n",
       "    <tr>\n",
       "      <th>&gt; 2</th>\n",
       "      <td>38567</td>\n",
       "      <td>38567</td>\n",
       "      <td>38567</td>\n",
       "      <td>38567</td>\n",
       "      <td>38567</td>\n",
       "      <td>38567</td>\n",
       "      <td>38567</td>\n",
       "      <td>38567</td>\n",
       "      <td>38567</td>\n",
       "      <td>38567</td>\n",
       "      <td>...</td>\n",
       "      <td>31404</td>\n",
       "      <td>32617</td>\n",
       "      <td>27527</td>\n",
       "      <td>38567</td>\n",
       "      <td>38567</td>\n",
       "      <td>38567</td>\n",
       "      <td>38567</td>\n",
       "      <td>38567</td>\n",
       "      <td>38567</td>\n",
       "      <td>38310</td>\n",
       "    </tr>\n",
       "  </tbody>\n",
       "</table>\n",
       "<p>5 rows × 31 columns</p>\n",
       "</div>"
      ],
      "text/plain": [
       "               USER_ID  ACC_NBR  AMAIN_PP_ID  OPEN_DATE  USER_ONLINE_DURA  \\\n",
       "category_rate                                                               \n",
       "0.5 - 1         113227   113227       113227     113227            113227   \n",
       "1 - 1.5         127091   127091       127091     127091            127091   \n",
       "1.5 - 2         109587   109587       109587     109587            109587   \n",
       "< 0.5            60520    60520        60520      60520             60520   \n",
       "> 2              38567    38567        38567      38567             38567   \n",
       "\n",
       "               USER_DEVELOP_DEPART_ID  DEPT_NAME2  DEPT_NAME3  DEPT_NAME4  \\\n",
       "category_rate                                                               \n",
       "0.5 - 1                        113227      113214      113214      113214   \n",
       "1 - 1.5                        127091      127091      127091      127091   \n",
       "1.5 - 2                        109587      109587      109587      109587   \n",
       "< 0.5                           60520       60420       60420       60420   \n",
       "> 2                             38567       38567       38567       38567   \n",
       "\n",
       "               DEPT_NAME5   ...    FIRST_CALL_MSC_CELLID_201704  \\\n",
       "category_rate               ...                                   \n",
       "0.5 - 1            113214   ...                           71552   \n",
       "1 - 1.5            127091   ...                           92707   \n",
       "1.5 - 2            109587   ...                           94427   \n",
       "< 0.5               60420   ...                           31127   \n",
       "> 2                 38567   ...                           31404   \n",
       "\n",
       "               FIRST_CALL_MSC_CELLID_201705  FIRST_CALL_MSC_CELLID_201706  \\\n",
       "category_rate                                                               \n",
       "0.5 - 1                               81266                         74292   \n",
       "1 - 1.5                               91304                         84127   \n",
       "1.5 - 2                               93312                         89205   \n",
       "< 0.5                                 43381                         42820   \n",
       "> 2                                   32617                         27527   \n",
       "\n",
       "               FEE_12  SETT_CHARGE  SETT_CHARGE_12  delta_time_now  \\\n",
       "category_rate                                                        \n",
       "0.5 - 1        113227       113227          113227          113227   \n",
       "1 - 1.5        127091       127091          127091          127091   \n",
       "1.5 - 2        109587       109587          109587          109587   \n",
       "< 0.5           60520        60520           60520           60520   \n",
       "> 2             38567        38567           38567           38567   \n",
       "\n",
       "               delta_time_now_month    rate       r  \n",
       "category_rate                                        \n",
       "0.5 - 1                      113227  113227  113227  \n",
       "1 - 1.5                      127091  127091  127091  \n",
       "1.5 - 2                      109587  109587  109587  \n",
       "< 0.5                         60520   60520   60520  \n",
       "> 2                           38567   38567   38310  \n",
       "\n",
       "[5 rows x 31 columns]"
      ]
     },
     "execution_count": 96,
     "metadata": {},
     "output_type": "execute_result"
    }
   ],
   "source": [
    "df.groupby('category_rate').count()"
   ]
  },
  {
   "cell_type": "code",
   "execution_count": 16,
   "metadata": {
    "collapsed": true
   },
   "outputs": [],
   "source": [
    "fig =plt.figure()\n",
    "normal = pd.read_csv('open_date_info.csv')\n",
    "normal['rate'] = normal['SETT_CHARGE_ALL_BN']/(normal['FEE_ALL_BN']+1)\n",
    "normal['category_rate'] = normal['rate'].apply(split_rate)\n",
    "\n",
    "ax = sns.countplot(normal['category_rate'],order=['< 0.5','0.5 - 1','1 - 1.5','1.5 - 2','> 2'])\n",
    "total = float(len(normal))\n",
    "for p in ax.patches:\n",
    "    height = p.get_height()\n",
    "    ax.text(p.get_x()+p.get_width()/2.,\n",
    "            height + 3,\n",
    "            '{:.0%}'.format(height/total),\n",
    "            ha=\"center\") \n",
    "plt.xlabel(u'比率范围')\n",
    "plt.ylabel(u'用户数量')\n",
    "plt.title(u'佣金占收入比率用户数分布情况（正常用户）')\n",
    "plt.savefig('normal_portion_percentage.png')"
   ]
  },
  {
   "cell_type": "code",
   "execution_count": 70,
   "metadata": {
    "collapsed": true
   },
   "outputs": [],
   "source": [
    "normal = normal.fillna(0)"
   ]
  },
  {
   "cell_type": "markdown",
   "metadata": {},
   "source": [
    "发展部门的分布有高有低"
   ]
  },
  {
   "cell_type": "code",
   "execution_count": 18,
   "metadata": {
    "collapsed": true
   },
   "outputs": [],
   "source": [
    "def split_jwq(rate):\n",
    "    if rate == 0:\n",
    "        return '0'\n",
    "    elif rate ==1:\n",
    "        return '1'\n",
    "    elif rate > 1 and rate <= 10:\n",
    "        return '2 - 10'\n",
    "    elif rate > 10 and rate <=100:\n",
    "        return '10 - 100'\n",
    "    elif rate > 100 and rate <=1000:\n",
    "        return  '100 - 1000'\n",
    "    else:\n",
    "        return '> 1000'\n",
    "    \n",
    "df['jwq_cate'] = df['JWQ_NUM_AVG'].apply(split_jwq)"
   ]
  },
  {
   "cell_type": "code",
   "execution_count": 22,
   "metadata": {
    "collapsed": true
   },
   "outputs": [],
   "source": [
    "import matplotlib\n",
    "matplotlib.rcParams['font.family']='SimHei'\n",
    "fig = plt.figure()\n",
    "ax = sns.countplot(df['jwq_cate'],order=['0','1','2 - 10','10 - 100','100 - 1000','> 1000'],palette='Blues')\n",
    "total = float(len(df))\n",
    "for p in ax.patches:\n",
    "    height = p.get_height()\n",
    "    ax.text(p.get_x()+p.get_width()/2.,\n",
    "            height + 3,\n",
    "            '{:.0%}'.format(height/total),\n",
    "            ha=\"center\") \n",
    "plt.xlabel(u'交往圈数量')\n",
    "plt.ylabel(u'用户数量')\n",
    "plt.title(u'交往圈分布情况（关停用户）')\n",
    "plt.savefig('jwq_portion1.png')"
   ]
  },
  {
   "cell_type": "code",
   "execution_count": 123,
   "metadata": {
    "collapsed": true
   },
   "outputs": [],
   "source": [
    "jwq = df.groupby('jwq_cate').mean()[['CALL_DURATION_AVG','CALL_TIMES_AVG']]"
   ]
  },
  {
   "cell_type": "code",
   "execution_count": 125,
   "metadata": {
    "collapsed": true
   },
   "outputs": [],
   "source": [
    "jwq.to_csv('jwq.csv')"
   ]
  },
  {
   "cell_type": "code",
   "execution_count": 128,
   "metadata": {
    "collapsed": true
   },
   "outputs": [],
   "source": [
    "jwq_all = df.groupby('JWQ_NUM_AVG').mean()[['CALL_DURATION_AVG','CALL_TIMES_AVG']]\n",
    "jwq_all['avg'] = jwq_all['CALL_DURATION_AVG']/(jwq_all['CALL_TIMES_AVG']+1)\n",
    "jwq_all.to_csv('all_jwq.csv')\n",
    "# sns.distplot(jwq_all['avg'],kde=False)\n",
    "# plt.show()"
   ]
  },
  {
   "cell_type": "code",
   "execution_count": 129,
   "metadata": {},
   "outputs": [
    {
     "data": {
      "text/plain": [
       "0             178226\n",
       "2 - 10        120889\n",
       "1              93279\n",
       "10 - 100       47352\n",
       "100 - 1000      7040\n",
       "> 1000          2206\n",
       "Name: jwq_cate, dtype: int64"
      ]
     },
     "execution_count": 129,
     "metadata": {},
     "output_type": "execute_result"
    }
   ],
   "source": [
    "df['jwq_cate'].value_counts()"
   ]
  },
  {
   "cell_type": "code",
   "execution_count": 107,
   "metadata": {},
   "outputs": [
    {
     "ename": "KeyboardInterrupt",
     "evalue": "",
     "output_type": "error",
     "traceback": [
      "\u001b[1;31m---------------------------------------------------------------------------\u001b[0m",
      "\u001b[1;31mKeyboardInterrupt\u001b[0m                         Traceback (most recent call last)",
      "\u001b[1;32m<ipython-input-107-65ca0f65089e>\u001b[0m in \u001b[0;36m<module>\u001b[1;34m()\u001b[0m\n\u001b[0;32m     10\u001b[0m \u001b[1;32mfor\u001b[0m \u001b[0mk\u001b[0m \u001b[1;32min\u001b[0m \u001b[0mK\u001b[0m\u001b[1;33m:\u001b[0m\u001b[1;33m\u001b[0m\u001b[0m\n\u001b[0;32m     11\u001b[0m     \u001b[0mkmeans\u001b[0m\u001b[1;33m=\u001b[0m\u001b[0mKMeans\u001b[0m\u001b[1;33m(\u001b[0m\u001b[0mn_clusters\u001b[0m\u001b[1;33m=\u001b[0m\u001b[0mk\u001b[0m\u001b[1;33m)\u001b[0m\u001b[1;33m\u001b[0m\u001b[0m\n\u001b[1;32m---> 12\u001b[1;33m     \u001b[0mkmeans\u001b[0m\u001b[1;33m.\u001b[0m\u001b[0mfit\u001b[0m\u001b[1;33m(\u001b[0m\u001b[0mX\u001b[0m\u001b[1;33m)\u001b[0m\u001b[1;33m\u001b[0m\u001b[0m\n\u001b[0m\u001b[0;32m     13\u001b[0m     meandistortions.append(sum(np.min(cdist(\n\u001b[0;32m     14\u001b[0m             X,kmeans.cluster_centers_,\"euclidean\"),axis=1))/X.shape[0])\n",
      "\u001b[1;32mD:\\develop\\Anaconda\\envs\\py27\\lib\\site-packages\\sklearn\\cluster\\k_means_.pyc\u001b[0m in \u001b[0;36mfit\u001b[1;34m(self, X, y)\u001b[0m\n\u001b[0;32m    891\u001b[0m                 \u001b[0mtol\u001b[0m\u001b[1;33m=\u001b[0m\u001b[0mself\u001b[0m\u001b[1;33m.\u001b[0m\u001b[0mtol\u001b[0m\u001b[1;33m,\u001b[0m \u001b[0mrandom_state\u001b[0m\u001b[1;33m=\u001b[0m\u001b[0mrandom_state\u001b[0m\u001b[1;33m,\u001b[0m \u001b[0mcopy_x\u001b[0m\u001b[1;33m=\u001b[0m\u001b[0mself\u001b[0m\u001b[1;33m.\u001b[0m\u001b[0mcopy_x\u001b[0m\u001b[1;33m,\u001b[0m\u001b[1;33m\u001b[0m\u001b[0m\n\u001b[0;32m    892\u001b[0m                 \u001b[0mn_jobs\u001b[0m\u001b[1;33m=\u001b[0m\u001b[0mself\u001b[0m\u001b[1;33m.\u001b[0m\u001b[0mn_jobs\u001b[0m\u001b[1;33m,\u001b[0m \u001b[0malgorithm\u001b[0m\u001b[1;33m=\u001b[0m\u001b[0mself\u001b[0m\u001b[1;33m.\u001b[0m\u001b[0malgorithm\u001b[0m\u001b[1;33m,\u001b[0m\u001b[1;33m\u001b[0m\u001b[0m\n\u001b[1;32m--> 893\u001b[1;33m                 return_n_iter=True)\n\u001b[0m\u001b[0;32m    894\u001b[0m         \u001b[1;32mreturn\u001b[0m \u001b[0mself\u001b[0m\u001b[1;33m\u001b[0m\u001b[0m\n\u001b[0;32m    895\u001b[0m \u001b[1;33m\u001b[0m\u001b[0m\n",
      "\u001b[1;32mD:\\develop\\Anaconda\\envs\\py27\\lib\\site-packages\\sklearn\\cluster\\k_means_.pyc\u001b[0m in \u001b[0;36mk_means\u001b[1;34m(X, n_clusters, init, precompute_distances, n_init, max_iter, verbose, tol, random_state, copy_x, n_jobs, algorithm, return_n_iter)\u001b[0m\n\u001b[0;32m    344\u001b[0m                 \u001b[0mX\u001b[0m\u001b[1;33m,\u001b[0m \u001b[0mn_clusters\u001b[0m\u001b[1;33m,\u001b[0m \u001b[0mmax_iter\u001b[0m\u001b[1;33m=\u001b[0m\u001b[0mmax_iter\u001b[0m\u001b[1;33m,\u001b[0m \u001b[0minit\u001b[0m\u001b[1;33m=\u001b[0m\u001b[0minit\u001b[0m\u001b[1;33m,\u001b[0m \u001b[0mverbose\u001b[0m\u001b[1;33m=\u001b[0m\u001b[0mverbose\u001b[0m\u001b[1;33m,\u001b[0m\u001b[1;33m\u001b[0m\u001b[0m\n\u001b[0;32m    345\u001b[0m                 \u001b[0mprecompute_distances\u001b[0m\u001b[1;33m=\u001b[0m\u001b[0mprecompute_distances\u001b[0m\u001b[1;33m,\u001b[0m \u001b[0mtol\u001b[0m\u001b[1;33m=\u001b[0m\u001b[0mtol\u001b[0m\u001b[1;33m,\u001b[0m\u001b[1;33m\u001b[0m\u001b[0m\n\u001b[1;32m--> 346\u001b[1;33m                 x_squared_norms=x_squared_norms, random_state=random_state)\n\u001b[0m\u001b[0;32m    347\u001b[0m             \u001b[1;31m# determine if these results are the best so far\u001b[0m\u001b[1;33m\u001b[0m\u001b[1;33m\u001b[0m\u001b[0m\n\u001b[0;32m    348\u001b[0m             \u001b[1;32mif\u001b[0m \u001b[0mbest_inertia\u001b[0m \u001b[1;32mis\u001b[0m \u001b[0mNone\u001b[0m \u001b[1;32mor\u001b[0m \u001b[0minertia\u001b[0m \u001b[1;33m<\u001b[0m \u001b[0mbest_inertia\u001b[0m\u001b[1;33m:\u001b[0m\u001b[1;33m\u001b[0m\u001b[0m\n",
      "\u001b[1;32mD:\\develop\\Anaconda\\envs\\py27\\lib\\site-packages\\sklearn\\cluster\\k_means_.pyc\u001b[0m in \u001b[0;36m_kmeans_single_elkan\u001b[1;34m(X, n_clusters, max_iter, init, verbose, x_squared_norms, random_state, tol, precompute_distances)\u001b[0m\n\u001b[0;32m    398\u001b[0m         \u001b[1;32mprint\u001b[0m\u001b[1;33m(\u001b[0m\u001b[1;34m'Initialization complete'\u001b[0m\u001b[1;33m)\u001b[0m\u001b[1;33m\u001b[0m\u001b[0m\n\u001b[0;32m    399\u001b[0m     centers, labels, n_iter = k_means_elkan(X, n_clusters, centers, tol=tol,\n\u001b[1;32m--> 400\u001b[1;33m                                             max_iter=max_iter, verbose=verbose)\n\u001b[0m\u001b[0;32m    401\u001b[0m     \u001b[0minertia\u001b[0m \u001b[1;33m=\u001b[0m \u001b[0mnp\u001b[0m\u001b[1;33m.\u001b[0m\u001b[0msum\u001b[0m\u001b[1;33m(\u001b[0m\u001b[1;33m(\u001b[0m\u001b[0mX\u001b[0m \u001b[1;33m-\u001b[0m \u001b[0mcenters\u001b[0m\u001b[1;33m[\u001b[0m\u001b[0mlabels\u001b[0m\u001b[1;33m]\u001b[0m\u001b[1;33m)\u001b[0m \u001b[1;33m**\u001b[0m \u001b[1;36m2\u001b[0m\u001b[1;33m,\u001b[0m \u001b[0mdtype\u001b[0m\u001b[1;33m=\u001b[0m\u001b[0mnp\u001b[0m\u001b[1;33m.\u001b[0m\u001b[0mfloat64\u001b[0m\u001b[1;33m)\u001b[0m\u001b[1;33m\u001b[0m\u001b[0m\n\u001b[0;32m    402\u001b[0m     \u001b[1;32mreturn\u001b[0m \u001b[0mlabels\u001b[0m\u001b[1;33m,\u001b[0m \u001b[0minertia\u001b[0m\u001b[1;33m,\u001b[0m \u001b[0mcenters\u001b[0m\u001b[1;33m,\u001b[0m \u001b[0mn_iter\u001b[0m\u001b[1;33m\u001b[0m\u001b[0m\n",
      "\u001b[1;32msklearn\\cluster\\_k_means_elkan.pyx\u001b[0m in \u001b[0;36msklearn.cluster._k_means_elkan.k_means_elkan\u001b[1;34m()\u001b[0m\n",
      "\u001b[1;32mD:\\develop\\Anaconda\\envs\\py27\\lib\\site-packages\\numpy\\core\\fromnumeric.pyc\u001b[0m in \u001b[0;36msum\u001b[1;34m(a, axis, dtype, out, keepdims)\u001b[0m\n\u001b[0;32m   1728\u001b[0m \u001b[1;33m\u001b[0m\u001b[0m\n\u001b[0;32m   1729\u001b[0m \u001b[1;33m\u001b[0m\u001b[0m\n\u001b[1;32m-> 1730\u001b[1;33m \u001b[1;32mdef\u001b[0m \u001b[0msum\u001b[0m\u001b[1;33m(\u001b[0m\u001b[0ma\u001b[0m\u001b[1;33m,\u001b[0m \u001b[0maxis\u001b[0m\u001b[1;33m=\u001b[0m\u001b[0mNone\u001b[0m\u001b[1;33m,\u001b[0m \u001b[0mdtype\u001b[0m\u001b[1;33m=\u001b[0m\u001b[0mNone\u001b[0m\u001b[1;33m,\u001b[0m \u001b[0mout\u001b[0m\u001b[1;33m=\u001b[0m\u001b[0mNone\u001b[0m\u001b[1;33m,\u001b[0m \u001b[0mkeepdims\u001b[0m\u001b[1;33m=\u001b[0m\u001b[0mnp\u001b[0m\u001b[1;33m.\u001b[0m\u001b[0m_NoValue\u001b[0m\u001b[1;33m)\u001b[0m\u001b[1;33m:\u001b[0m\u001b[1;33m\u001b[0m\u001b[0m\n\u001b[0m\u001b[0;32m   1731\u001b[0m     \"\"\"\n\u001b[0;32m   1732\u001b[0m     \u001b[0mSum\u001b[0m \u001b[0mof\u001b[0m \u001b[0marray\u001b[0m \u001b[0melements\u001b[0m \u001b[0mover\u001b[0m \u001b[0ma\u001b[0m \u001b[0mgiven\u001b[0m \u001b[0maxis\u001b[0m\u001b[1;33m.\u001b[0m\u001b[1;33m\u001b[0m\u001b[0m\n",
      "\u001b[1;31mKeyboardInterrupt\u001b[0m: "
     ]
    }
   ],
   "source": [
    "import numpy as np\n",
    "from sklearn.cluster import KMeans\n",
    "from scipy.spatial.distance import cdist\n",
    "import matplotlib.pyplot as plt\n",
    "%matplotlib inline\n",
    "\n",
    "K=range(1,10)\n",
    "meandistortions=[]\n",
    "X = np.asarray(df['JWQ_NUM_AVG']).reshape(-1,1)\n",
    "for k in K:\n",
    "    kmeans=KMeans(n_clusters=k)\n",
    "    kmeans.fit(X)\n",
    "    meandistortions.append(sum(np.min(cdist(\n",
    "            X,kmeans.cluster_centers_,\"euclidean\"),axis=1))/X.shape[0])\n",
    "plt.plot(K,meandistortions,'bx-')\n",
    "plt.xlabel('K')\n",
    "plt.ylabel(u'$J(\\\\theta)$')\n",
    "plt.title(u'$J(\\\\theta)$ of different K')\n",
    "plt.savefig('elbow.png')"
   ]
  },
  {
   "cell_type": "code",
   "execution_count": 130,
   "metadata": {},
   "outputs": [
    {
     "data": {
      "text/plain": [
       "count    448992.000000\n",
       "mean          9.596643\n",
       "std           2.687795\n",
       "min           5.000000\n",
       "25%           8.000000\n",
       "50%           9.000000\n",
       "75%          11.000000\n",
       "max         104.000000\n",
       "Name: delta_time_now_month, dtype: float64"
      ]
     },
     "execution_count": 130,
     "metadata": {},
     "output_type": "execute_result"
    }
   ],
   "source": [
    "df['delta_time_now_month'].describe()"
   ]
  }
 ],
 "metadata": {
  "kernelspec": {
   "display_name": "Python 3",
   "language": "python",
   "name": "python3"
  },
  "language_info": {
   "codemirror_mode": {
    "name": "ipython",
    "version": 3
   },
   "file_extension": ".py",
   "mimetype": "text/x-python",
   "name": "python",
   "nbconvert_exporter": "python",
   "pygments_lexer": "ipython3",
   "version": "3.6.2"
  }
 },
 "nbformat": 4,
 "nbformat_minor": 2
}
